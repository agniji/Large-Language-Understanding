{
  "metadata": {
    "kernelspec": {
      "language": "python",
      "display_name": "Python 3",
      "name": "python3"
    },
    "language_info": {
      "pygments_lexer": "ipython3",
      "nbconvert_exporter": "python",
      "version": "3.6.4",
      "file_extension": ".py",
      "codemirror_mode": {
        "name": "ipython",
        "version": 3
      },
      "name": "python",
      "mimetype": "text/x-python"
    },
    "kaggle": {
      "accelerator": "gpu",
      "dataSources": [
        {
          "sourceId": 6130844,
          "sourceType": "datasetVersion",
          "datasetId": 3515086
        },
        {
          "sourceId": 4251,
          "sourceType": "modelInstanceVersion",
          "modelInstanceId": 3045,
          "modelId": 575
        }
      ],
      "dockerImageVersionId": 30527,
      "isInternetEnabled": false,
      "language": "python",
      "sourceType": "notebook",
      "isGpuEnabled": true
    },
    "colab": {
      "provenance": [],
      "include_colab_link": true
    }
  },
  "nbformat_minor": 0,
  "nbformat": 4,
  "cells": [
    {
      "cell_type": "markdown",
      "metadata": {
        "id": "view-in-github",
        "colab_type": "text"
      },
      "source": [
        "<a href=\"https://colab.research.google.com/github/agniji/Large-Language-Understanding/blob/main/RLHF_PPO_PEFT.ipynb\" target=\"_parent\"><img src=\"https://colab.research.google.com/assets/colab-badge.svg\" alt=\"Open In Colab\"/></a>"
      ]
    },
    {
      "cell_type": "markdown",
      "source": [
        "# Fine-Tune FLAN-T5 with Reinforcement Learning (PPO) and PEFT to Generate Less-Toxic Summaries"
      ],
      "metadata": {
        "id": "CowaLRIOnByV"
      }
    },
    {
      "cell_type": "markdown",
      "source": [
        "Here I am just sharing an interesting tutorial that was included as part of a course that I recently audited on Coursera.\n",
        "\n",
        "I thought that this tutorial did a great job of explaining proximal policy optimization (as well as providing examples for how to implement this method).\n",
        "\n",
        "\n",
        "\n",
        "Source:\n",
        " - https://www.coursera.org/learn/generative-ai-with-llms/\n",
        " - https://www.coursera.org/learn/generative-ai-with-llms/gradedLti/SKFfM/lab-3-fine-tune-flan-t5-with-reinforcement-learning-to-generate-more-positive"
      ],
      "metadata": {
        "id": "TTF1bY_LnByY"
      }
    },
    {
      "cell_type": "markdown",
      "source": [
        "In this notebook, you will fine-tune a FLAN-T5 model to generate less toxic content with Meta AI's hate speech reward model. The reward model is a binary classifier that predicts either \"not hate\" or \"hate\" for the given text. You will use Proximal Policy Optimization (PPO) to fine-tune and reduce the model's toxicity."
      ],
      "metadata": {
        "id": "Pr8_rA0ZnByZ"
      }
    },
    {
      "cell_type": "markdown",
      "source": [
        "# Table of Contents"
      ],
      "metadata": {
        "tags": [],
        "id": "ARDVyaqtnByZ"
      }
    },
    {
      "cell_type": "markdown",
      "source": [
        "- [ 1 - Set up Kernel and Required Dependencies](#1)\n",
        "- [ 2 - Load FLAN-T5 Model, Prepare Reward Model and Toxicity Evaluator](#2)\n",
        "  - [ 2.1 - Load Data and FLAN-T5 Model Fine-Tuned with Summarization Instruction](#2.1)\n",
        "  - [ 2.2 - Prepare Reward Model](#2.2)\n",
        "  - [ 2.3 - Evaluate Toxicity](#2.3)\n",
        "- [ 3 - Perform Fine-Tuning to Detoxify the Summaries](#3)\n",
        "  - [ 3.1 - Initialize `PPOTrainer`](#3.1)\n",
        "  - [ 3.2 - Fine-Tune the Model](#3.2)\n",
        "  - [ 3.3 - Evaluate the Model Quantitatively](#3.3)\n",
        "  - [ 3.4 - Evaluate the Model Qualitatively](#3.4)"
      ],
      "metadata": {
        "tags": [],
        "id": "W6YmwFhRnBya"
      }
    },
    {
      "cell_type": "markdown",
      "source": [
        "<a name='1'></a>\n",
        "## 1 - Set up Kernel and Required Dependencies"
      ],
      "metadata": {
        "tags": [],
        "id": "m1K-CICcnBya"
      }
    },
    {
      "cell_type": "code",
      "source": [
        "%pip install --upgrade pip\n",
        "%pip install --disable-pip-version-check \\\n",
        "    torch==1.13.1 \\\n",
        "    torchdata==0.5.1 --quiet\n",
        "\n",
        "%pip install \\\n",
        "    transformers==4.27.2 \\\n",
        "    datasets==2.11.0 \\\n",
        "    evaluate==0.4.0 \\\n",
        "    rouge_score==0.1.2 \\\n",
        "    peft==0.3.0 --quiet\n",
        "\n",
        "# Installing the Reinforcement Learning library directly from github.\n",
        "%pip install git+https://github.com/lvwerra/trl.git@25fa1bd"
      ],
      "metadata": {
        "tags": [],
        "execution": {
          "iopub.status.busy": "2023-07-13T19:03:03.349048Z",
          "iopub.execute_input": "2023-07-13T19:03:03.349313Z",
          "iopub.status.idle": "2023-07-13T19:05:49.132904Z",
          "shell.execute_reply.started": "2023-07-13T19:03:03.349287Z",
          "shell.execute_reply": "2023-07-13T19:05:49.131575Z"
        },
        "_kg_hide-output": true,
        "trusted": true,
        "id": "GbgyM7ldnBya"
      },
      "outputs": [],
      "execution_count": null
    },
    {
      "cell_type": "markdown",
      "source": [
        "<img src=\"data:image/svg+xml;base64,Cjxzdmcgd2lkdGg9IjgwMCIgaGVpZ2h0PSI1MCIgdmlld0JveD0iMCAwIDgwMCA1MCIgeG1sbnM9Imh0dHA6Ly93d3cudzMub3JnLzIwMDAvc3ZnIj4KICAgIDxkZWZzPgogICAgICAgIDxsaW5lYXJHcmFkaWVudCBpZD0iZmFkZUdyYWRpZW50IiB4MT0iMCIgeDI9IjEiPgogICAgICAgICAgICA8c3RvcCBvZmZzZXQ9IjAlIiBzdG9wLWNvbG9yPSIjRjBGMEYwIi8+CiAgICAgICAgICAgIDxzdG9wIG9mZnNldD0iMTAwJSIgc3RvcC1jb2xvcj0iI0YwRjBGMCIgc3RvcC1vcGFjaXR5PSIwIi8+CiAgICAgICAgPC9saW5lYXJHcmFkaWVudD4KICAgICAgICA8bWFzayBpZD0iZmFkZU1hc2siPgogICAgICAgICAgICA8cmVjdCB4PSIwIiB5PSIwIiB3aWR0aD0iNzUwIiBoZWlnaHQ9IjUwIiBmaWxsPSJ3aGl0ZSIvPgogICAgICAgICAgICA8cmVjdCB4PSI3NTAiIHk9IjAiIHdpZHRoPSI1MCIgaGVpZ2h0PSI1MCIgZmlsbD0idXJsKCNmYWRlR3JhZGllbnQpIi8+CiAgICAgICAgPC9tYXNrPgogICAgPC9kZWZzPgogICAgPHBhdGggZD0iTTI1LDUwIFEwLDUwIDAsMjUgTDUwLDMgTDk3LDI1IEw3OTcsMjUgTDc5Nyw1MCBMMjUsNTAgWiIgZmlsbD0iI0YwRjBGMCIgc3Ryb2tlPSIjRTBFMEUwIiBzdHJva2Utd2lkdGg9IjEiIG1hc2s9InVybCgjZmFkZU1hc2spIi8+Cjwvc3ZnPgo=\" alt=\"Time alert close\"/>"
      ],
      "metadata": {
        "tags": [],
        "id": "d8deuHJ2nByc"
      }
    },
    {
      "cell_type": "markdown",
      "source": [
        "Import the necessary components. Some of them are new for this week, they will be discussed later in the notebook."
      ],
      "metadata": {
        "tags": [],
        "id": "tPG47ojUnByc"
      }
    },
    {
      "cell_type": "code",
      "source": [
        "from transformers import pipeline, AutoTokenizer, AutoModelForSequenceClassification, AutoModelForSeq2SeqLM, GenerationConfig\n",
        "from datasets import load_dataset\n",
        "from peft import PeftModel, PeftConfig, LoraConfig, TaskType\n",
        "\n",
        "# trl: Transformer Reinforcement Learning library\n",
        "from trl import PPOTrainer, PPOConfig, AutoModelForSeq2SeqLMWithValueHead\n",
        "from trl import create_reference_model\n",
        "from trl.core import LengthSampler\n",
        "\n",
        "import torch\n",
        "import evaluate\n",
        "\n",
        "import numpy as np\n",
        "import pandas as pd\n",
        "\n",
        "# tqdm library makes the loops show a smart progress meter.\n",
        "from tqdm import tqdm\n",
        "tqdm.pandas()"
      ],
      "metadata": {
        "tags": [],
        "execution": {
          "iopub.status.busy": "2023-07-13T19:05:49.135582Z",
          "iopub.execute_input": "2023-07-13T19:05:49.135951Z",
          "iopub.status.idle": "2023-07-13T19:06:02.490078Z",
          "shell.execute_reply.started": "2023-07-13T19:05:49.135913Z",
          "shell.execute_reply": "2023-07-13T19:06:02.489091Z"
        },
        "trusted": true,
        "id": "eiike7lAnByc"
      },
      "outputs": [],
      "execution_count": null
    },
    {
      "cell_type": "markdown",
      "source": [
        "<a name='2'></a>\n",
        "## 2 - Load FLAN-T5 Model, Prepare Reward Model and Toxicity Evaluator"
      ],
      "metadata": {
        "id": "Vo9S_SPznByc"
      }
    },
    {
      "cell_type": "markdown",
      "source": [
        "<a name='2.1'></a>\n",
        "### 2.1 - Load Data and FLAN-T5 Model Fine-Tuned with Summarization Instruction"
      ],
      "metadata": {
        "tags": [],
        "id": "ONsXZJ69nByd"
      }
    },
    {
      "cell_type": "markdown",
      "source": [
        "You will keep working with the same Hugging Face dataset [DialogSum](https://huggingface.co/datasets/knkarthick/dialogsum) and the pre-trained model [FLAN-T5](https://huggingface.co/docs/transformers/model_doc/flan-t5)."
      ],
      "metadata": {
        "tags": [],
        "id": "f04F6k1OnByd"
      }
    },
    {
      "cell_type": "code",
      "source": [
        "model_name=\"google/flan-t5-base\"\n",
        "huggingface_dataset_name = \"knkarthick/dialogsum\"\n",
        "\n",
        "dataset_original = load_dataset(huggingface_dataset_name)\n",
        "\n",
        "dataset_original"
      ],
      "metadata": {
        "tags": [],
        "execution": {
          "iopub.status.busy": "2023-07-13T19:06:02.491804Z",
          "iopub.execute_input": "2023-07-13T19:06:02.492134Z",
          "iopub.status.idle": "2023-07-13T19:06:05.579508Z",
          "shell.execute_reply.started": "2023-07-13T19:06:02.492099Z",
          "shell.execute_reply": "2023-07-13T19:06:05.578532Z"
        },
        "trusted": true,
        "id": "q9r4rvMBnByd"
      },
      "outputs": [],
      "execution_count": null
    },
    {
      "cell_type": "markdown",
      "source": [
        "The next step will be to preprocess the dataset. You will take only a part of it, then filter the dialogues of a particular length (just to make those examples long enough and, at the same time, easy to read). Then wrap each dialogue with the instruction and tokenize the prompts. Save the token ids in the field `input_ids` and decoded version of the prompts in the field `query`.\n",
        "\n",
        "You could do that all step by step in the cell below, but it is a good habit to organize that all in a function `build_dataset`:"
      ],
      "metadata": {
        "id": "_Zg6WgqtnByd"
      }
    },
    {
      "cell_type": "code",
      "source": [
        "def build_dataset(model_name,\n",
        "                  dataset_name,\n",
        "                  input_min_text_length,\n",
        "                  input_max_text_length):\n",
        "\n",
        "    \"\"\"\n",
        "    Preprocess the dataset and split it into train and test parts.\n",
        "\n",
        "    Parameters:\n",
        "    - model_name (str): Tokenizer model name.\n",
        "    - dataset_name (str): Name of the dataset to load.\n",
        "    - input_min_text_length (int): Minimum length of the dialogues.\n",
        "    - input_max_text_length (int): Maximum length of the dialogues.\n",
        "\n",
        "    Returns:\n",
        "    - dataset_splits (datasets.dataset_dict.DatasetDict): Preprocessed dataset containing train and test parts.\n",
        "    \"\"\"\n",
        "\n",
        "    # load dataset (only \"train\" part will be enough for this lab).\n",
        "    dataset = load_dataset(dataset_name, split=\"train\")\n",
        "\n",
        "    # Filter the dialogues of length between input_min_text_length and input_max_text_length characters.\n",
        "    dataset = dataset.filter(lambda x: len(x[\"dialogue\"]) > input_min_text_length and len(x[\"dialogue\"]) <= input_max_text_length, batched=False)\n",
        "\n",
        "    # Prepare tokenizer. Setting device_map=\"auto\" allows to switch between GPU and CPU automatically.\n",
        "    tokenizer = AutoTokenizer.from_pretrained(model_name, device_map=\"auto\")\n",
        "\n",
        "    def tokenize(sample):\n",
        "\n",
        "        # Wrap each dialogue with the instruction.\n",
        "        prompt = f\"\"\"\n",
        "Summarize the following conversation.\n",
        "\n",
        "{sample[\"dialogue\"]}\n",
        "\n",
        "Summary:\n",
        "\"\"\"\n",
        "        sample[\"input_ids\"] = tokenizer.encode(prompt)\n",
        "\n",
        "        # This must be called \"query\", which is a requirement of our PPO library.\n",
        "        sample[\"query\"] = tokenizer.decode(sample[\"input_ids\"])\n",
        "        return sample\n",
        "\n",
        "    # Tokenize each dialogue.\n",
        "    dataset = dataset.map(tokenize, batched=False)\n",
        "    dataset.set_format(type=\"torch\")\n",
        "\n",
        "    # Split the dataset into train and test parts.\n",
        "    dataset_splits = dataset.train_test_split(test_size=0.2, shuffle=False, seed=42)\n",
        "\n",
        "    return dataset_splits\n",
        "\n",
        "dataset = build_dataset(model_name=model_name,\n",
        "                        dataset_name=huggingface_dataset_name,\n",
        "                        input_min_text_length=200,\n",
        "                        input_max_text_length=1000)\n",
        "\n",
        "print(dataset)"
      ],
      "metadata": {
        "execution": {
          "iopub.status.busy": "2023-07-13T19:06:05.582533Z",
          "iopub.execute_input": "2023-07-13T19:06:05.583188Z",
          "iopub.status.idle": "2023-07-13T19:06:24.808634Z",
          "shell.execute_reply.started": "2023-07-13T19:06:05.583153Z",
          "shell.execute_reply": "2023-07-13T19:06:24.807237Z"
        },
        "trusted": true,
        "id": "GkV2DIEGnByd"
      },
      "outputs": [],
      "execution_count": null
    },
    {
      "cell_type": "markdown",
      "source": [
        "In the previous lab, you fine-tuned the PEFT model with summarization instructions. The training in the notebook was done on a subset of data. Then you downloaded the checkpoint of the fully trained PEFT model from S3.\n",
        "\n",
        "Let's load the same model checkpoint here:"
      ],
      "metadata": {
        "tags": [],
        "id": "5D364C9SnByd"
      }
    },
    {
      "cell_type": "code",
      "source": [
        "# !aws s3 cp --recursive s3://dlai-generative-ai/models/peft-dialogue-summary-checkpoint/ ./peft-dialogue-summary-checkpoint-from-s3/"
      ],
      "metadata": {
        "tags": [],
        "execution": {
          "iopub.status.busy": "2023-07-13T19:06:24.810256Z",
          "iopub.execute_input": "2023-07-13T19:06:24.810653Z",
          "iopub.status.idle": "2023-07-13T19:06:25.814181Z",
          "shell.execute_reply.started": "2023-07-13T19:06:24.810616Z",
          "shell.execute_reply": "2023-07-13T19:06:25.81267Z"
        },
        "trusted": true,
        "id": "5k4Zc6UFnByd"
      },
      "outputs": [],
      "execution_count": null
    },
    {
      "cell_type": "markdown",
      "source": [
        "List the model item and check its size (it's less than 15 Mb):"
      ],
      "metadata": {
        "tags": [],
        "id": "4LNNiyQtnBye"
      }
    },
    {
      "cell_type": "code",
      "source": [
        "# !ls -alh ./peft-dialogue-summary-checkpoint-from-s3/adapter_model.bin"
      ],
      "metadata": {
        "tags": [],
        "execution": {
          "iopub.status.busy": "2023-07-13T19:06:25.820443Z",
          "iopub.execute_input": "2023-07-13T19:06:25.820849Z",
          "iopub.status.idle": "2023-07-13T19:06:26.834249Z",
          "shell.execute_reply.started": "2023-07-13T19:06:25.820807Z",
          "shell.execute_reply": "2023-07-13T19:06:26.833044Z"
        },
        "trusted": true,
        "id": "gKWs3SR3nBye"
      },
      "outputs": [],
      "execution_count": null
    },
    {
      "cell_type": "markdown",
      "source": [
        "Prepare a function to pull out the number of model parameters (it is the same as in the previous lab):"
      ],
      "metadata": {
        "id": "4eRu2-RjnBye"
      }
    },
    {
      "cell_type": "code",
      "source": [
        "def print_number_of_trainable_model_parameters(model):\n",
        "    trainable_model_params = 0\n",
        "    all_model_params = 0\n",
        "    for _, param in model.named_parameters():\n",
        "        all_model_params += param.numel()\n",
        "        if param.requires_grad:\n",
        "            trainable_model_params += param.numel()\n",
        "    return f\"\\ntrainable model parameters: {trainable_model_params}\\nall model parameters: {all_model_params}\\npercentage of trainable model parameters: {100 * trainable_model_params / all_model_params:.2f}%\""
      ],
      "metadata": {
        "execution": {
          "iopub.status.busy": "2023-07-13T19:06:26.836256Z",
          "iopub.execute_input": "2023-07-13T19:06:26.837205Z",
          "iopub.status.idle": "2023-07-13T19:06:26.846536Z",
          "shell.execute_reply.started": "2023-07-13T19:06:26.837165Z",
          "shell.execute_reply": "2023-07-13T19:06:26.845571Z"
        },
        "trusted": true,
        "id": "2bldHeDlnBye"
      },
      "outputs": [],
      "execution_count": null
    },
    {
      "cell_type": "markdown",
      "source": [
        "Add the adapter to the original FLAN-T5 model. In the previous lab you were adding the fully trained adapter only for inferences, so there was no need to pass LoRA configurations doing that. Now you need to pass them to the constructed PEFT model, also putting `is_trainable=True`."
      ],
      "metadata": {
        "tags": [],
        "id": "Ya8HpR6YnBye"
      }
    },
    {
      "cell_type": "code",
      "source": [
        "lora_config = LoraConfig(\n",
        "    r=32, # Rank\n",
        "    lora_alpha=32,\n",
        "    target_modules=[\"q\", \"v\"],\n",
        "    lora_dropout=0.05,\n",
        "    bias=\"none\",\n",
        "    task_type=TaskType.SEQ_2_SEQ_LM # FLAN-T5\n",
        ")\n",
        "\n",
        "model = AutoModelForSeq2SeqLM.from_pretrained(model_name,\n",
        "                                              torch_dtype=torch.bfloat16)\n",
        "\n",
        "peft_model = PeftModel.from_pretrained(model,\n",
        "                                       '/kaggle/input/generative-ai-with-llms-lab-3/lab_3/peft-dialogue-summary-checkpoint-from-s3/',\n",
        "                                       lora_config=lora_config,\n",
        "                                       torch_dtype=torch.bfloat16,\n",
        "                                       device_map=\"auto\",\n",
        "                                       is_trainable=True)\n",
        "\n",
        "print(f'PEFT model parameters to be updated:\\n{print_number_of_trainable_model_parameters(peft_model)}\\n')\n"
      ],
      "metadata": {
        "tags": [],
        "execution": {
          "iopub.status.busy": "2023-07-13T19:07:59.710459Z",
          "iopub.execute_input": "2023-07-13T19:07:59.710871Z",
          "iopub.status.idle": "2023-07-13T19:08:08.935779Z",
          "shell.execute_reply.started": "2023-07-13T19:07:59.710831Z",
          "shell.execute_reply": "2023-07-13T19:08:08.934658Z"
        },
        "trusted": true,
        "id": "k02CZCQNnBye"
      },
      "outputs": [],
      "execution_count": null
    },
    {
      "cell_type": "markdown",
      "source": [
        "In this lab, you are preparing to fine-tune the LLM using Reinforcement Learning (RL). RL will be briefly discussed in the next section of this lab, but at this stage, you just need to prepare the Proximal Policy Optimization (PPO) model passing the instruct-fine-tuned PEFT model to it. PPO will be used to optimize the RL policy against the reward model."
      ],
      "metadata": {
        "id": "93APEcJDnBye"
      }
    },
    {
      "cell_type": "code",
      "source": [
        "ppo_model = AutoModelForSeq2SeqLMWithValueHead.from_pretrained(peft_model,\n",
        "                                                               torch_dtype=torch.bfloat16,\n",
        "                                                               is_trainable=True)\n",
        "\n",
        "print(f'PPO model parameters to be updated (ValueHead + 769 params):\\n{print_number_of_trainable_model_parameters(ppo_model)}\\n')\n",
        "print(ppo_model.v_head)"
      ],
      "metadata": {
        "execution": {
          "iopub.status.busy": "2023-07-13T19:08:18.454775Z",
          "iopub.execute_input": "2023-07-13T19:08:18.455166Z",
          "iopub.status.idle": "2023-07-13T19:08:18.483826Z",
          "shell.execute_reply.started": "2023-07-13T19:08:18.455133Z",
          "shell.execute_reply": "2023-07-13T19:08:18.482701Z"
        },
        "trusted": true,
        "id": "ua5jHYdvnBye"
      },
      "outputs": [],
      "execution_count": null
    },
    {
      "cell_type": "markdown",
      "source": [
        "During PPO, only a few parameters will be updated. Specifically, the parameters of the `ValueHead`. More information about this class of models can be found in the [documentation](https://huggingface.co/docs/trl/main/en/models#trl.create_reference_model). The number of trainable parameters can be computed as $(n+1)*m$, where $n$ is the number of input units (here $n=768$) and $m$ is the number of output units (you have $m=1$). The $+1$ term in the equation takes into account the bias term."
      ],
      "metadata": {
        "id": "MZSj4u9JnByf"
      }
    },
    {
      "cell_type": "markdown",
      "source": [
        "Now create a frozen copy of the PPO which will not be fine-tuned - a reference model. The reference model will represent the LLM before detoxification. None of the parameters of the reference model will be updated during PPO training. This is on purpose."
      ],
      "metadata": {
        "id": "HVbgibVrnByf"
      }
    },
    {
      "cell_type": "code",
      "source": [
        "ref_model = create_reference_model(ppo_model)\n",
        "\n",
        "print(f'Reference model parameters to be updated:\\n{print_number_of_trainable_model_parameters(ref_model)}\\n')"
      ],
      "metadata": {
        "execution": {
          "iopub.status.busy": "2023-07-13T19:08:20.03963Z",
          "iopub.execute_input": "2023-07-13T19:08:20.040002Z",
          "iopub.status.idle": "2023-07-13T19:08:20.997377Z",
          "shell.execute_reply.started": "2023-07-13T19:08:20.039973Z",
          "shell.execute_reply": "2023-07-13T19:08:20.99615Z"
        },
        "trusted": true,
        "id": "hhm5p0tfnByf"
      },
      "outputs": [],
      "execution_count": null
    },
    {
      "cell_type": "markdown",
      "source": [
        "Everything is set. It is time to prepare the reward model!"
      ],
      "metadata": {
        "tags": [],
        "id": "tTmRzLd4nByf"
      }
    },
    {
      "cell_type": "markdown",
      "source": [
        "<a name='2.2'></a>\n",
        "### 2.2 - Prepare Reward Model\n",
        "\n",
        "**Reinforcement Learning (RL)** is one type of machine learning where agents take actions in an environment aimed at maximizing their cumulative rewards. The agent's behavior is defined by the **policy**. And the goal of reinforcement learning is for the agent to learn an optimal, or nearly-optimal, policy that maximizes the **reward function**.\n",
        "\n",
        "In the [previous section](#2.1) the original policy is based on the instruct PEFT model - this is the LLM before detoxification. Then you could ask human labelers to give feedback on the outputs' toxicity. However, it can be expensive to use them for the entire fine-tuning process. A practical way to avoid that is to use a reward model encouraging the agent to detoxify the dialogue summaries. The intuitive approach would be to do some form of sentiment analysis across two classes (`nothate` and `hate`) and give a higher reward if there is higher a chance of getting class `nothate` as an output.\n",
        "\n",
        "For example, we can mention that having human labelers for the entire finetuning process can be expensive. A practical way to avoid that is to use a reward model.\n",
        "\n",
        "use feedback generated by a model\n",
        "\n",
        "You will use [Meta AI's RoBERTa-based hate speech model](https://huggingface.co/facebook/roberta-hate-speech-dynabench-r4-target) for the reward model. This model will output **logits** and then predict probabilities across two classes: `nothate` and `hate`. The logits of the output `nothate` will be taken as a positive reward. Then, the model will be fine-tuned with PPO using those reward values.\n",
        "\n",
        "Create the instance of the required model class for the RoBERTa model. You also need to load a tokenizer to test the model. Notice that the model label `0` will correspond to the class `nothate` and label `1` to the class `hate`."
      ],
      "metadata": {
        "id": "D97-1TPunByf"
      }
    },
    {
      "cell_type": "code",
      "source": [
        "toxicity_model_name = \"facebook/roberta-hate-speech-dynabench-r4-target\"\n",
        "toxicity_tokenizer = AutoTokenizer.from_pretrained(toxicity_model_name, device_map=\"auto\")\n",
        "toxicity_model = AutoModelForSequenceClassification.from_pretrained(toxicity_model_name, device_map=\"auto\")\n",
        "print(toxicity_model.config.id2label)"
      ],
      "metadata": {
        "tags": [],
        "execution": {
          "iopub.status.busy": "2023-07-13T19:08:22.552298Z",
          "iopub.execute_input": "2023-07-13T19:08:22.553509Z",
          "iopub.status.idle": "2023-07-13T19:08:26.661537Z",
          "shell.execute_reply.started": "2023-07-13T19:08:22.553461Z",
          "shell.execute_reply": "2023-07-13T19:08:26.660243Z"
        },
        "trusted": true,
        "id": "Pegv5s2onByf"
      },
      "outputs": [],
      "execution_count": null
    },
    {
      "cell_type": "markdown",
      "source": [
        "Take some non-toxic text, tokenize it, and pass it to the model. Print the output logits, probabilities, and the corresponding reward that will be used for fine-tuning."
      ],
      "metadata": {
        "tags": [],
        "id": "25Ej96fInByf"
      }
    },
    {
      "cell_type": "code",
      "source": [
        "non_toxic_text = \"#Person 1# tells Tommy that he didn't like the movie.\"\n",
        "\n",
        "toxicity_input_ids = toxicity_tokenizer(non_toxic_text, return_tensors=\"pt\").input_ids\n",
        "\n",
        "logits = toxicity_model(input_ids=toxicity_input_ids).logits\n",
        "print(f'logits [not hate, hate]: {logits.tolist()[0]}')\n",
        "\n",
        "# Print the probabilities for [not hate, hate]\n",
        "probabilities = logits.softmax(dim=-1).tolist()[0]\n",
        "print(f'probabilities [not hate, hate]: {probabilities}')\n",
        "\n",
        "# get the logits for \"not hate\" - this is the reward!\n",
        "not_hate_index = 0\n",
        "nothate_reward = (logits[:, not_hate_index]).tolist()\n",
        "print(f'reward (high): {nothate_reward}')"
      ],
      "metadata": {
        "tags": [],
        "execution": {
          "iopub.status.busy": "2023-07-13T19:08:31.820028Z",
          "iopub.execute_input": "2023-07-13T19:08:31.821112Z",
          "iopub.status.idle": "2023-07-13T19:08:34.60973Z",
          "shell.execute_reply.started": "2023-07-13T19:08:31.821062Z",
          "shell.execute_reply": "2023-07-13T19:08:34.608682Z"
        },
        "trusted": true,
        "id": "nBBjxtpknByf"
      },
      "outputs": [],
      "execution_count": null
    },
    {
      "cell_type": "markdown",
      "source": [
        "Let's show a toxic comment.  This will have a low reward because it is more toxic."
      ],
      "metadata": {
        "id": "FdigBRaPnByf"
      }
    },
    {
      "cell_type": "code",
      "source": [
        "toxic_text = \"#Person 1# tells Tommy that the movie was terrible, dumb and stupid.\"\n",
        "\n",
        "toxicity_input_ids = toxicity_tokenizer(toxic_text, return_tensors=\"pt\").input_ids\n",
        "\n",
        "logits = toxicity_model(toxicity_input_ids).logits\n",
        "print(f'logits [not hate, hate]: {logits.tolist()[0]}')\n",
        "\n",
        "# Print the probabilities for [not hate, hate]\n",
        "probabilities = logits.softmax(dim=-1).tolist()[0]\n",
        "print(f'probabilities [not hate, hate]: {probabilities}')\n",
        "\n",
        "# Get the logits for \"not hate\" - this is the reward!\n",
        "nothate_reward = (logits[:, not_hate_index]).tolist()\n",
        "print(f'reward (low): {nothate_reward}')"
      ],
      "metadata": {
        "tags": [],
        "execution": {
          "iopub.status.busy": "2023-07-13T19:08:34.611701Z",
          "iopub.execute_input": "2023-07-13T19:08:34.612317Z",
          "iopub.status.idle": "2023-07-13T19:08:34.642366Z",
          "shell.execute_reply.started": "2023-07-13T19:08:34.612279Z",
          "shell.execute_reply": "2023-07-13T19:08:34.641321Z"
        },
        "trusted": true,
        "id": "5e1EB-nDnByf"
      },
      "outputs": [],
      "execution_count": null
    },
    {
      "cell_type": "markdown",
      "source": [
        "Setup Hugging Face inference pipeline to simplify the code for the toxicity reward model:"
      ],
      "metadata": {
        "id": "vDgX8GmKnByf"
      }
    },
    {
      "cell_type": "code",
      "source": [
        "device = 0 if torch.cuda.is_available() else \"cpu\"\n",
        "\n",
        "sentiment_pipe = pipeline(\"sentiment-analysis\",\n",
        "                          model=toxicity_model_name,\n",
        "                          device=device)\n",
        "reward_logits_kwargs = {\n",
        "    \"top_k\": None, # Return all scores.\n",
        "    \"function_to_apply\": \"none\", # Set to \"none\" to retrieve raw logits.\n",
        "    \"batch_size\": 16\n",
        "}\n",
        "\n",
        "reward_probabilities_kwargs = {\n",
        "    \"top_k\": None, # Return all scores.\n",
        "    \"function_to_apply\": \"softmax\", # Set to \"softmax\" to apply softmax and retrieve probabilities.\n",
        "    \"batch_size\": 16\n",
        "}\n",
        "\n",
        "print(\"Reward model output:\")\n",
        "print(\"For non-toxic text\")\n",
        "print(sentiment_pipe(non_toxic_text, **reward_logits_kwargs))\n",
        "print(sentiment_pipe(non_toxic_text, **reward_probabilities_kwargs))\n",
        "print(\"For toxic text\")\n",
        "print(sentiment_pipe(toxic_text, **reward_logits_kwargs))\n",
        "print(sentiment_pipe(toxic_text, **reward_probabilities_kwargs))"
      ],
      "metadata": {
        "tags": [],
        "execution": {
          "iopub.status.busy": "2023-07-13T19:08:34.64356Z",
          "iopub.execute_input": "2023-07-13T19:08:34.643878Z",
          "iopub.status.idle": "2023-07-13T19:08:36.774059Z",
          "shell.execute_reply.started": "2023-07-13T19:08:34.643845Z",
          "shell.execute_reply": "2023-07-13T19:08:36.773016Z"
        },
        "trusted": true,
        "id": "n7wJTkWFnByf"
      },
      "outputs": [],
      "execution_count": null
    },
    {
      "cell_type": "markdown",
      "source": [
        "The outputs are the logits for both `nothate` (positive) and `hate` (negative) classes. But PPO will be using logits only of the `nothate` class as the positive reward signal used to help detoxify the LLM outputs."
      ],
      "metadata": {
        "id": "P7TpDPlhnByg"
      }
    },
    {
      "cell_type": "code",
      "source": [
        "print(sentiment_pipe(non_toxic_text, **reward_logits_kwargs))\n",
        "print(sentiment_pipe(non_toxic_text, **reward_probabilities_kwargs))"
      ],
      "metadata": {
        "execution": {
          "iopub.status.busy": "2023-07-13T19:08:36.776394Z",
          "iopub.execute_input": "2023-07-13T19:08:36.77674Z",
          "iopub.status.idle": "2023-07-13T19:08:36.804811Z",
          "shell.execute_reply.started": "2023-07-13T19:08:36.776705Z",
          "shell.execute_reply": "2023-07-13T19:08:36.803767Z"
        },
        "trusted": true,
        "id": "t-q0IAEhnBym"
      },
      "outputs": [],
      "execution_count": null
    },
    {
      "cell_type": "code",
      "source": [
        "print(sentiment_pipe(toxic_text, **reward_logits_kwargs))\n",
        "print(sentiment_pipe(toxic_text, **reward_probabilities_kwargs))"
      ],
      "metadata": {
        "execution": {
          "iopub.status.busy": "2023-07-13T19:08:36.806193Z",
          "iopub.execute_input": "2023-07-13T19:08:36.806737Z",
          "iopub.status.idle": "2023-07-13T19:08:36.834613Z",
          "shell.execute_reply.started": "2023-07-13T19:08:36.806701Z",
          "shell.execute_reply": "2023-07-13T19:08:36.833658Z"
        },
        "trusted": true,
        "id": "RujgrPfLnBym"
      },
      "outputs": [],
      "execution_count": null
    },
    {
      "cell_type": "markdown",
      "source": [
        "<a name='2.3'></a>\n",
        "### 2.3 - Evaluate Toxicity\n",
        "\n",
        "To evaluate the model before and after fine-tuning/detoxification you need to set up the [toxicity evaluation metric](https://huggingface.co/spaces/evaluate-measurement/toxicity). The **toxicity score** is a decimal value between 0 and 1 where 1 is the highest toxicity."
      ],
      "metadata": {
        "tags": [],
        "id": "GprB5FY9nBym"
      }
    },
    {
      "cell_type": "code",
      "source": [
        "toxicity_evaluator = evaluate.load(\"toxicity\",\n",
        "                                    toxicity_model_name,\n",
        "                                    module_type=\"measurement\",\n",
        "                                    toxic_label=\"hate\")"
      ],
      "metadata": {
        "tags": [],
        "execution": {
          "iopub.status.busy": "2023-07-13T19:08:37.486476Z",
          "iopub.execute_input": "2023-07-13T19:08:37.486858Z",
          "iopub.status.idle": "2023-07-13T19:08:39.623982Z",
          "shell.execute_reply.started": "2023-07-13T19:08:37.486825Z",
          "shell.execute_reply": "2023-07-13T19:08:39.622889Z"
        },
        "trusted": true,
        "id": "MOO6nlHvnBym"
      },
      "outputs": [],
      "execution_count": null
    },
    {
      "cell_type": "markdown",
      "source": [
        "Try to calculate toxicity for the same sentences as in section [2.2](#2.2). It's no surprise that the toxicity scores are the probabilities of `hate` class returned directly from the reward model."
      ],
      "metadata": {
        "tags": [],
        "id": "zB6xoQconBym"
      }
    },
    {
      "cell_type": "code",
      "source": [
        "toxicity_score = toxicity_evaluator.compute(predictions=[\n",
        "    non_toxic_text\n",
        "])\n",
        "\n",
        "print(\"Toxicity score for non-toxic text:\")\n",
        "print(toxicity_score[\"toxicity\"])\n",
        "\n",
        "toxicity_score = toxicity_evaluator.compute(predictions=[\n",
        "    toxic_text\n",
        "])\n",
        "\n",
        "print(\"\\nToxicity score for toxic text:\")\n",
        "print(toxicity_score[\"toxicity\"])"
      ],
      "metadata": {
        "tags": [],
        "execution": {
          "iopub.status.busy": "2023-07-13T19:08:39.625979Z",
          "iopub.execute_input": "2023-07-13T19:08:39.626493Z",
          "iopub.status.idle": "2023-07-13T19:08:39.827432Z",
          "shell.execute_reply.started": "2023-07-13T19:08:39.626458Z",
          "shell.execute_reply": "2023-07-13T19:08:39.826345Z"
        },
        "trusted": true,
        "id": "-wDKIYetnBym"
      },
      "outputs": [],
      "execution_count": null
    },
    {
      "cell_type": "markdown",
      "source": [
        "This evaluator can be used to compute the toxicity of the dialogues prepared in section [2.1](#2.1). You will need to pass the test dataset (`dataset[\"test\"]`), the same tokenizer which was used in that section, the frozen PEFT model prepared in section [2.2](#2.2), and the toxicity evaluator. It is convenient to wrap the required steps in the function `evaluate_toxicity`."
      ],
      "metadata": {
        "tags": [],
        "id": "oxNdDtUSnByn"
      }
    },
    {
      "cell_type": "code",
      "source": [
        "def evaluate_toxicity(model,\n",
        "                      toxicity_evaluator,\n",
        "                      tokenizer,\n",
        "                      dataset,\n",
        "                      num_samples):\n",
        "\n",
        "    \"\"\"\n",
        "    Preprocess the dataset and split it into train and test parts.\n",
        "\n",
        "    Parameters:\n",
        "    - model (trl model): Model to be evaluated.\n",
        "    - toxicity_evaluator (evaluate_modules toxicity metrics): Toxicity evaluator.\n",
        "    - tokenizer (transformers tokenizer): Tokenizer to be used.\n",
        "    - dataset (dataset): Input dataset for the evaluation.\n",
        "    - num_samples (int): Maximum number of samples for the evaluation.\n",
        "\n",
        "    Returns:\n",
        "    tuple: A tuple containing two numpy.float64 values:\n",
        "    - mean (numpy.float64): Mean of the samples toxicity.\n",
        "    - std (numpy.float64): Standard deviation of the samples toxicity.\n",
        "    \"\"\"\n",
        "\n",
        "    max_new_tokens=100\n",
        "\n",
        "    toxicities = []\n",
        "    input_texts = []\n",
        "    for i, sample in tqdm(enumerate(dataset)):\n",
        "        input_text = sample[\"query\"]\n",
        "\n",
        "        if i > num_samples:\n",
        "            break\n",
        "\n",
        "        input_ids = tokenizer(input_text, return_tensors=\"pt\", padding=True).input_ids\n",
        "\n",
        "        generation_config = GenerationConfig(max_new_tokens=max_new_tokens,\n",
        "                                             top_k=0.0,\n",
        "                                             top_p=1.0,\n",
        "                                             do_sample=True)\n",
        "\n",
        "        response_token_ids = model.generate(input_ids=input_ids,\n",
        "                                            generation_config=generation_config)\n",
        "\n",
        "        generated_text = tokenizer.decode(response_token_ids[0], skip_special_tokens=True)\n",
        "\n",
        "        toxicity_score = toxicity_evaluator.compute(predictions=[(input_text + \" \" + generated_text)])\n",
        "\n",
        "        toxicities.extend(toxicity_score[\"toxicity\"])\n",
        "\n",
        "    # Compute mean & std using np.\n",
        "    mean = np.mean(toxicities)\n",
        "    std = np.std(toxicities)\n",
        "\n",
        "    return mean, std"
      ],
      "metadata": {
        "tags": [],
        "execution": {
          "iopub.status.busy": "2023-07-13T19:08:39.829209Z",
          "iopub.execute_input": "2023-07-13T19:08:39.830273Z",
          "iopub.status.idle": "2023-07-13T19:08:39.839695Z",
          "shell.execute_reply.started": "2023-07-13T19:08:39.830235Z",
          "shell.execute_reply": "2023-07-13T19:08:39.838696Z"
        },
        "trusted": true,
        "id": "2pfg1g-jnByn"
      },
      "outputs": [],
      "execution_count": null
    },
    {
      "cell_type": "markdown",
      "source": [
        "And now perform the calculation of the model toxicity before fine-tuning/detoxification:"
      ],
      "metadata": {
        "tags": [],
        "id": "IISY_v49nByn"
      }
    },
    {
      "cell_type": "code",
      "source": [
        "tokenizer = AutoTokenizer.from_pretrained(model_name, device_map=\"auto\")\n",
        "\n",
        "mean_before_detoxification, std_before_detoxification = evaluate_toxicity(model=ref_model,\n",
        "                                                                          toxicity_evaluator=toxicity_evaluator,\n",
        "                                                                          tokenizer=tokenizer,\n",
        "                                                                          dataset=dataset[\"test\"],\n",
        "                                                                          num_samples=10)\n",
        "\n",
        "print(f'toxicity [mean, std] before detox: [{mean_before_detoxification}, {std_before_detoxification}]')"
      ],
      "metadata": {
        "tags": [],
        "execution": {
          "iopub.status.busy": "2023-07-13T19:08:40.735927Z",
          "iopub.execute_input": "2023-07-13T19:08:40.736303Z",
          "iopub.status.idle": "2023-07-13T19:09:35.248455Z",
          "shell.execute_reply.started": "2023-07-13T19:08:40.736271Z",
          "shell.execute_reply": "2023-07-13T19:09:35.247409Z"
        },
        "trusted": true,
        "id": "PIYcNlbNnByn"
      },
      "outputs": [],
      "execution_count": null
    },
    {
      "cell_type": "markdown",
      "source": [
        "<a name='3'></a>\n",
        "## 3 - Perform Fine-Tuning to Detoxify the Summaries\n",
        "Optimize a RL policy against the reward model using Proximal Policy Optimization (PPO)."
      ],
      "metadata": {
        "id": "7KjNz4KNnByn"
      }
    },
    {
      "cell_type": "markdown",
      "source": [
        "<a name='3.1'></a>\n",
        "### 3.1 - Initialize `PPOTrainer`\n",
        "\n",
        "For the `PPOTrainer` initialization, you will need a collator. Here it will be a function transforming the dictionaries in a particular way. You can define and test it:"
      ],
      "metadata": {
        "id": "YtHLF-ONnByn"
      }
    },
    {
      "cell_type": "code",
      "source": [
        "def collator(data):\n",
        "    return dict((key, [d[key] for d in data]) for key in data[0])\n",
        "\n",
        "test_data = [{\"key1\": \"value1\", \"key2\": \"value2\", \"key3\": \"value3\"}]\n",
        "print(f'Collator input: {test_data}')\n",
        "print(f'Collator output: {collator(test_data)}')"
      ],
      "metadata": {
        "execution": {
          "iopub.status.busy": "2023-07-13T19:09:35.250725Z",
          "iopub.execute_input": "2023-07-13T19:09:35.25138Z",
          "iopub.status.idle": "2023-07-13T19:09:35.260212Z",
          "shell.execute_reply.started": "2023-07-13T19:09:35.251321Z",
          "shell.execute_reply": "2023-07-13T19:09:35.259112Z"
        },
        "trusted": true,
        "id": "ub0h6pEjnByn"
      },
      "outputs": [],
      "execution_count": null
    },
    {
      "cell_type": "markdown",
      "source": [
        "Set up the configuration parameters. Load the `ppo_model` and the tokenizer. You will also load a frozen version of the model `ref_model`. The first model is optimized while the second model serves as a reference to calculate the KL-divergence from the starting point. This works as an additional reward signal in the PPO training to make sure the optimized model does not deviate too much from the original LLM."
      ],
      "metadata": {
        "id": "Jb7cRhwUnByn"
      }
    },
    {
      "cell_type": "code",
      "source": [
        "learning_rate=1.41e-5\n",
        "max_ppo_epochs=1\n",
        "mini_batch_size=4\n",
        "batch_size=16\n",
        "\n",
        "config = PPOConfig(\n",
        "    model_name=model_name,\n",
        "    learning_rate=learning_rate,\n",
        "    ppo_epochs=max_ppo_epochs,\n",
        "    mini_batch_size=mini_batch_size,\n",
        "    batch_size=batch_size\n",
        ")\n",
        "\n",
        "ppo_trainer = PPOTrainer(config=config,\n",
        "                         model=ppo_model,\n",
        "                         ref_model=ref_model,\n",
        "                         tokenizer=tokenizer,\n",
        "                         dataset=dataset[\"train\"],\n",
        "                         data_collator=collator)"
      ],
      "metadata": {
        "execution": {
          "iopub.status.busy": "2023-07-13T19:09:35.261716Z",
          "iopub.execute_input": "2023-07-13T19:09:35.262348Z",
          "iopub.status.idle": "2023-07-13T19:09:35.665274Z",
          "shell.execute_reply.started": "2023-07-13T19:09:35.262264Z",
          "shell.execute_reply": "2023-07-13T19:09:35.66417Z"
        },
        "trusted": true,
        "id": "W3x8PUc-nByn"
      },
      "outputs": [],
      "execution_count": null
    },
    {
      "cell_type": "markdown",
      "source": [
        "<a name='3.2'></a>\n",
        "### 3.2 - Fine-Tune the Model"
      ],
      "metadata": {
        "id": "wg7QpmJsnByn"
      }
    },
    {
      "cell_type": "markdown",
      "source": [
        "The fine-tuning loop consists of the following main steps:\n",
        "1. Get the query responses from the policy LLM (PEFT model).\n",
        "2. Get sentiments for query/responses from hate speech RoBERTa model.\n",
        "3. Optimize policy with PPO using the (query, response, reward) triplet.\n",
        "\n",
        "The operation is running if you see the following metrics appearing:\n",
        "* `objective/kl`: minimize kl divergence,\n",
        "* `ppo/returns/mean`: maximize mean returns,\n",
        "* `ppo/policy/advantages_mean`: maximize advantages."
      ],
      "metadata": {
        "id": "c8nhP0nxnByo"
      }
    },
    {
      "cell_type": "code",
      "source": [
        "output_min_length = 100\n",
        "output_max_length = 400\n",
        "output_length_sampler = LengthSampler(output_min_length, output_max_length)\n",
        "\n",
        "generation_kwargs = {\n",
        "    \"min_length\": 5,\n",
        "    \"top_k\": 0.0,\n",
        "    \"top_p\": 1.0,\n",
        "    \"do_sample\": True\n",
        "}\n",
        "\n",
        "reward_kwargs = {\n",
        "    \"top_k\": None, # Return all scores.\n",
        "    \"function_to_apply\": \"none\", # You want the raw logits without softmax.\n",
        "    \"batch_size\": 16\n",
        "}\n",
        "\n",
        "max_ppo_steps = 10\n",
        "\n",
        "for step, batch in tqdm(enumerate(ppo_trainer.dataloader)):\n",
        "    # Break when you reach max_steps.\n",
        "    if step >= max_ppo_steps:\n",
        "        break\n",
        "\n",
        "    prompt_tensors = batch[\"input_ids\"]\n",
        "\n",
        "    # Get response from FLAN-T5/PEFT LLM.\n",
        "    summary_tensors = []\n",
        "\n",
        "    for prompt_tensor in prompt_tensors:\n",
        "        max_new_tokens = output_length_sampler()\n",
        "\n",
        "        generation_kwargs[\"max_new_tokens\"] = max_new_tokens\n",
        "        summary = ppo_trainer.generate(prompt_tensor, **generation_kwargs)\n",
        "\n",
        "        summary_tensors.append(summary.squeeze()[-max_new_tokens:])\n",
        "\n",
        "    # This needs to be called \"response\".\n",
        "    batch[\"response\"] = [tokenizer.decode(r.squeeze()) for r in summary_tensors]\n",
        "\n",
        "    # Compute reward outputs.\n",
        "    query_response_pairs = [q + r for q, r in zip(batch[\"query\"], batch[\"response\"])]\n",
        "    rewards = sentiment_pipe(query_response_pairs, **reward_kwargs)\n",
        "\n",
        "    # You use the `nothate` item because this is the score for the positive `nothate` class.\n",
        "    reward_tensors = [torch.tensor(reward[not_hate_index][\"score\"]) for reward in rewards]\n",
        "\n",
        "    # Run PPO step.\n",
        "    stats = ppo_trainer.step(prompt_tensors, summary_tensors, reward_tensors)\n",
        "    ppo_trainer.log_stats(stats, batch, reward_tensors)\n",
        "\n",
        "    print(f'objective/kl: {stats[\"objective/kl\"]}')\n",
        "    print(f'ppo/returns/mean: {stats[\"ppo/returns/mean\"]}')\n",
        "    print(f'ppo/policy/advantages_mean: {stats[\"ppo/policy/advantages_mean\"]}')\n",
        "    print('-'.join('' for x in range(100)))"
      ],
      "metadata": {
        "tags": [],
        "execution": {
          "iopub.status.busy": "2023-07-13T19:09:35.667957Z",
          "iopub.execute_input": "2023-07-13T19:09:35.668358Z",
          "iopub.status.idle": "2023-07-13T19:13:11.191766Z",
          "shell.execute_reply.started": "2023-07-13T19:09:35.668282Z",
          "shell.execute_reply": "2023-07-13T19:13:11.190708Z"
        },
        "trusted": true,
        "id": "Em2tuMCunByo"
      },
      "outputs": [],
      "execution_count": null
    },
    {
      "cell_type": "markdown",
      "source": [
        "<img src=\"data:image/svg+xml;base64,Cjxzdmcgd2lkdGg9IjgwMCIgaGVpZ2h0PSI1MCIgdmlld0JveD0iMCAwIDgwMCA1MCIgeG1sbnM9Imh0dHA6Ly93d3cudzMub3JnLzIwMDAvc3ZnIj4KICAgIDxkZWZzPgogICAgICAgIDxsaW5lYXJHcmFkaWVudCBpZD0iZmFkZUdyYWRpZW50IiB4MT0iMCIgeDI9IjEiPgogICAgICAgICAgICA8c3RvcCBvZmZzZXQ9IjAlIiBzdG9wLWNvbG9yPSIjRjBGMEYwIi8+CiAgICAgICAgICAgIDxzdG9wIG9mZnNldD0iMTAwJSIgc3RvcC1jb2xvcj0iI0YwRjBGMCIgc3RvcC1vcGFjaXR5PSIwIi8+CiAgICAgICAgPC9saW5lYXJHcmFkaWVudD4KICAgICAgICA8bWFzayBpZD0iZmFkZU1hc2siPgogICAgICAgICAgICA8cmVjdCB4PSIwIiB5PSIwIiB3aWR0aD0iNzUwIiBoZWlnaHQ9IjUwIiBmaWxsPSJ3aGl0ZSIvPgogICAgICAgICAgICA8cmVjdCB4PSI3NTAiIHk9IjAiIHdpZHRoPSI1MCIgaGVpZ2h0PSI1MCIgZmlsbD0idXJsKCNmYWRlR3JhZGllbnQpIi8+CiAgICAgICAgPC9tYXNrPgogICAgPC9kZWZzPgogICAgPHBhdGggZD0iTTI1LDUwIFEwLDUwIDAsMjUgTDUwLDMgTDk3LDI1IEw3OTcsMjUgTDc5Nyw1MCBMMjUsNTAgWiIgZmlsbD0iI0YwRjBGMCIgc3Ryb2tlPSIjRTBFMEUwIiBzdHJva2Utd2lkdGg9IjEiIG1hc2s9InVybCgjZmFkZU1hc2spIi8+Cjwvc3ZnPgo=\" alt=\"Time alert close\"/>"
      ],
      "metadata": {
        "id": "xt0So5XinByo"
      }
    },
    {
      "cell_type": "markdown",
      "source": [
        "<a name='3.3'></a>\n",
        "### 3.3 - Evaluate the Model Quantitatively\n",
        "\n",
        "Load the PPO/PEFT model back in from disk and use the test dataset split to evaluate the toxicity score of the RL-fine-tuned model."
      ],
      "metadata": {
        "id": "MlTzazvinByo"
      }
    },
    {
      "cell_type": "code",
      "source": [
        "mean_after_detoxification, std_after_detoxification = evaluate_toxicity(model=ppo_model.to('cpu'),\n",
        "                                                                        toxicity_evaluator=toxicity_evaluator,\n",
        "                                                                        tokenizer=tokenizer,\n",
        "                                                                        dataset=dataset[\"test\"],\n",
        "                                                                        num_samples=10)\n",
        "print(f'toxicity [mean, std] after detox: [{mean_after_detoxification}, {std_after_detoxification}]')"
      ],
      "metadata": {
        "tags": [],
        "execution": {
          "iopub.status.busy": "2023-07-13T19:22:20.543127Z",
          "iopub.execute_input": "2023-07-13T19:22:20.543617Z",
          "iopub.status.idle": "2023-07-13T19:23:04.778522Z",
          "shell.execute_reply.started": "2023-07-13T19:22:20.54358Z",
          "shell.execute_reply": "2023-07-13T19:23:04.777503Z"
        },
        "trusted": true,
        "id": "WDq1PFJEnByo"
      },
      "outputs": [],
      "execution_count": null
    },
    {
      "cell_type": "markdown",
      "source": [
        "And compare the toxicity scores of the reference model (before detoxification) and fine-tuned model (after detoxification)."
      ],
      "metadata": {
        "tags": [],
        "id": "v0Ej4UK_nByo"
      }
    },
    {
      "cell_type": "code",
      "source": [
        "mean_improvement = (mean_before_detoxification - mean_after_detoxification) / mean_before_detoxification\n",
        "std_improvement = (std_before_detoxification - std_after_detoxification) / std_before_detoxification\n",
        "\n",
        "print(f'Percentage improvement of toxicity score after detoxification:')\n",
        "print(f'mean: {mean_improvement*100:.2f}%')\n",
        "print(f'std: {std_improvement*100:.2f}%')"
      ],
      "metadata": {
        "execution": {
          "iopub.status.busy": "2023-07-13T19:23:04.780887Z",
          "iopub.execute_input": "2023-07-13T19:23:04.782612Z",
          "iopub.status.idle": "2023-07-13T19:23:04.790974Z",
          "shell.execute_reply.started": "2023-07-13T19:23:04.782574Z",
          "shell.execute_reply": "2023-07-13T19:23:04.789907Z"
        },
        "trusted": true,
        "id": "MhK27cqAnByo"
      },
      "outputs": [],
      "execution_count": null
    },
    {
      "cell_type": "markdown",
      "source": [
        "<a name='3.4'></a>\n",
        "### 3.4 - Evaluate the Model Qualitatively\n",
        "\n",
        "Let's inspect some examples from the test dataset. You can compare the original `ref_model` to the fine-tuned/detoxified `ppo_model` using the toxicity evaluator."
      ],
      "metadata": {
        "id": "gYh4bpDKnByo"
      }
    },
    {
      "cell_type": "code",
      "source": [
        "batch_size = 20\n",
        "compare_results = {}\n",
        "\n",
        "df_batch = dataset[\"test\"][0:batch_size]\n",
        "\n",
        "compare_results[\"query\"] = df_batch[\"query\"]\n",
        "prompt_tensors = df_batch[\"input_ids\"]\n",
        "\n",
        "summary_tensors_ref = []\n",
        "summary_tensors = []\n",
        "\n",
        "# Get response from ppo and base model.\n",
        "for i in tqdm(range(batch_size)):\n",
        "    gen_len = output_length_sampler()\n",
        "    generation_kwargs[\"max_new_tokens\"] = gen_len\n",
        "\n",
        "    summary = ref_model.generate(\n",
        "        input_ids=torch.as_tensor(prompt_tensors[i]).unsqueeze(dim=0).to('cpu'),\n",
        "        **generation_kwargs\n",
        "    ).squeeze()[-gen_len:]\n",
        "    summary_tensors_ref.append(summary)\n",
        "\n",
        "    summary = ppo_model.generate(\n",
        "        input_ids=torch.as_tensor(prompt_tensors[i]).unsqueeze(dim=0).to('cpu'),\n",
        "        **generation_kwargs\n",
        "    ).squeeze()[-gen_len:]\n",
        "    summary_tensors.append(summary)\n",
        "\n",
        "# Decode responses.\n",
        "compare_results[\"response_before\"] = [tokenizer.decode(summary_tensors_ref[i]) for i in range(batch_size)]\n",
        "compare_results[\"response_after\"] = [tokenizer.decode(summary_tensors[i]) for i in range(batch_size)]\n",
        "\n",
        "# Sentiment analysis of query/response pairs before/after.\n",
        "texts_before = [d + s for d, s in zip(compare_results[\"query\"], compare_results[\"response_before\"])]\n",
        "rewards_before = sentiment_pipe(texts_before, **reward_kwargs)\n",
        "compare_results[\"reward_before\"] = [reward[not_hate_index][\"score\"] for reward in rewards_before]\n",
        "\n",
        "texts_after = [d + s for d, s in zip(compare_results[\"query\"], compare_results[\"response_after\"])]\n",
        "rewards_after = sentiment_pipe(texts_after, **reward_kwargs)\n",
        "compare_results[\"reward_after\"] = [reward[not_hate_index][\"score\"] for reward in rewards_after]"
      ],
      "metadata": {
        "execution": {
          "iopub.status.busy": "2023-07-13T19:33:00.18476Z",
          "iopub.execute_input": "2023-07-13T19:33:00.18512Z",
          "iopub.status.idle": "2023-07-13T19:35:38.790282Z",
          "shell.execute_reply.started": "2023-07-13T19:33:00.185083Z",
          "shell.execute_reply": "2023-07-13T19:35:38.789219Z"
        },
        "trusted": true,
        "id": "i-kEAefdnByo"
      },
      "outputs": [],
      "execution_count": null
    },
    {
      "cell_type": "markdown",
      "source": [
        "<img src=\"data:image/svg+xml;base64,Cjxzdmcgd2lkdGg9IjgwMCIgaGVpZ2h0PSI1MCIgdmlld0JveD0iMCAwIDgwMCA1MCIgeG1sbnM9Imh0dHA6Ly93d3cudzMub3JnLzIwMDAvc3ZnIj4KICAgIDxkZWZzPgogICAgICAgIDxsaW5lYXJHcmFkaWVudCBpZD0iZmFkZUdyYWRpZW50IiB4MT0iMCIgeDI9IjEiPgogICAgICAgICAgICA8c3RvcCBvZmZzZXQ9IjAlIiBzdG9wLWNvbG9yPSIjRjBGMEYwIi8+CiAgICAgICAgICAgIDxzdG9wIG9mZnNldD0iMTAwJSIgc3RvcC1jb2xvcj0iI0YwRjBGMCIgc3RvcC1vcGFjaXR5PSIwIi8+CiAgICAgICAgPC9saW5lYXJHcmFkaWVudD4KICAgICAgICA8bWFzayBpZD0iZmFkZU1hc2siPgogICAgICAgICAgICA8cmVjdCB4PSIwIiB5PSIwIiB3aWR0aD0iNzUwIiBoZWlnaHQ9IjUwIiBmaWxsPSJ3aGl0ZSIvPgogICAgICAgICAgICA8cmVjdCB4PSI3NTAiIHk9IjAiIHdpZHRoPSI1MCIgaGVpZ2h0PSI1MCIgZmlsbD0idXJsKCNmYWRlR3JhZGllbnQpIi8+CiAgICAgICAgPC9tYXNrPgogICAgPC9kZWZzPgogICAgPHBhdGggZD0iTTI1LDUwIFEwLDUwIDAsMjUgTDUwLDMgTDk3LDI1IEw3OTcsMjUgTDc5Nyw1MCBMMjUsNTAgWiIgZmlsbD0iI0YwRjBGMCIgc3Ryb2tlPSIjRTBFMEUwIiBzdHJva2Utd2lkdGg9IjEiIG1hc2s9InVybCgjZmFkZU1hc2spIi8+Cjwvc3ZnPgo=\" alt=\"Time alert close\"/>"
      ],
      "metadata": {
        "tags": [],
        "id": "ATgcv2A0nByo"
      }
    },
    {
      "cell_type": "markdown",
      "source": [
        "Store and review the results in a DataFrame"
      ],
      "metadata": {
        "tags": [],
        "id": "kCUfjx2SnByo"
      }
    },
    {
      "cell_type": "code",
      "source": [
        "pd.set_option('display.max_colwidth', 500)\n",
        "df_compare_results = pd.DataFrame(compare_results)\n",
        "df_compare_results[\"reward_diff\"] = df_compare_results['reward_after'] - df_compare_results['reward_before']\n",
        "df_compare_results_sorted = df_compare_results.sort_values(by=['reward_diff'], ascending=False).reset_index(drop=True)\n",
        "df_compare_results_sorted"
      ],
      "metadata": {
        "tags": [],
        "execution": {
          "iopub.status.busy": "2023-07-13T19:35:38.791978Z",
          "iopub.execute_input": "2023-07-13T19:35:38.792426Z",
          "iopub.status.idle": "2023-07-13T19:35:38.821561Z",
          "shell.execute_reply.started": "2023-07-13T19:35:38.792385Z",
          "shell.execute_reply": "2023-07-13T19:35:38.820502Z"
        },
        "trusted": true,
        "id": "80VExMZXnByp"
      },
      "outputs": [],
      "execution_count": null
    },
    {
      "cell_type": "markdown",
      "source": [
        "Looking at the reward mean/median of the generated sequences you can observe a significant difference!"
      ],
      "metadata": {
        "id": "gy9g07vwnByp"
      }
    },
    {
      "cell_type": "markdown",
      "source": [
        "Source:\n",
        " - https://www.coursera.org/learn/generative-ai-with-llms/\n",
        " - https://www.coursera.org/learn/generative-ai-with-llms/gradedLti/SKFfM/lab-3-fine-tune-flan-t5-with-reinforcement-learning-to-generate-more-positive"
      ],
      "metadata": {
        "id": "ooRxCjIgnByp"
      }
    },
    {
      "cell_type": "code",
      "source": [],
      "metadata": {
        "id": "dDp5xlPDnByp"
      },
      "outputs": [],
      "execution_count": null
    },
    {
      "cell_type": "code",
      "source": [],
      "metadata": {
        "id": "Yh6tFk-_nByp"
      },
      "outputs": [],
      "execution_count": null
    },
    {
      "cell_type": "code",
      "source": [],
      "metadata": {
        "id": "j3dXtk5CnByp"
      },
      "outputs": [],
      "execution_count": null
    }
  ]
}